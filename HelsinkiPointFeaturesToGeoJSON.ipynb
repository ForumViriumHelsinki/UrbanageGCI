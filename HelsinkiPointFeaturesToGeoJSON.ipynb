{
 "cells": [
  {
   "cell_type": "code",
   "execution_count": 7,
   "id": "1cbd419f",
   "metadata": {},
   "outputs": [],
   "source": [
    "#Processing tools to read from Helsinki WFS API and produce GeoJSON for Green Comfort Index estimation\n",
    "\n",
    "#First, the dependencies\n",
    "import geojson\n",
    "import requests\n",
    "import json"
   ]
  },
  {
   "cell_type": "code",
   "execution_count": 2,
   "id": "209281b9",
   "metadata": {},
   "outputs": [],
   "source": [
    "#Pull data from HKI WFS APIs\n",
    "permanentBenches = requests.get('https://kartta.hel.fi/ws/geoserver/avoindata/wfs?service=wfs&version=2.0.0&request=GetFeature&typeNames=avoindata:YLRE_Viherosat_piste&count=10000&outputFormat=application/json&srsName=urn:ogc:def:crs:EPSG::4326&CQL_FILTER=alatyyppi%20LIKE%20%27%25Kiintopenkki%25%27')\n",
    "movableBenches = requests.get('https://kartta.hel.fi/ws/geoserver/avoindata/wfs?service=wfs&version=2.0.0&request=GetFeature&typeNames=avoindata:YLRE_Viherosat_piste&count=10000&outputFormat=application/json&srsName=urn:ogc:def:crs:EPSG::4326&CQL_FILTER=alatyyppi%20LIKE%20%27%25Irtopenkki%25%27')\n",
    "singleSeatBenches = requests.get('https://kartta.hel.fi/ws/geoserver/avoindata/wfs?service=wfs&version=2.0.0&request=GetFeature&typeNames=avoindata:YLRE_Viherosat_piste&count=1000&outputFormat=application/json&srsName=urn:ogc:def:crs:EPSG::4326&CQL_FILTER=alatyyppi%20LIKE%20%27%25Yhdenistuttava%20penkki%25%27')\n",
    "tableBenches = requests.get('https://kartta.hel.fi/ws/geoserver/avoindata/wfs?service=wfs&version=2.0.0&request=GetFeature&typeNames=avoindata:YLRE_Viherosat_piste&count=1000&outputFormat=application/json&srsName=urn:ogc:def:crs:EPSG::4326&CQL_FILTER=alatyyppi%20LIKE%20%27%25Pöytä-penkki%20yhdistelmä%25%27')"
   ]
  },
  {
   "cell_type": "code",
   "execution_count": 11,
   "id": "f4ca0178",
   "metadata": {},
   "outputs": [],
   "source": [
    "#Parse to JSON\n",
    "permanentBenchesJSON = json.loads(permanentBenches.text)\n",
    "movableBenchesJSON = json.loads(movableBenches.text)\n",
    "singleSeatBenchesJSON = json.loads(singleSeatBenches.text)\n",
    "tableBenchesJSON = json.loads(tableBenches.text)"
   ]
  },
  {
   "cell_type": "code",
   "execution_count": 20,
   "id": "097bd03e",
   "metadata": {},
   "outputs": [],
   "source": [
    "#Form a master collection, iterate over different types of benches, add required keys\n",
    "HelsinkiBenches = []\n",
    "\n",
    "for feature in tableBenchesJSON['features']:\n",
    "    feature[\"properties\"][\"BenchType\"] = \"Table bench combo\"\n",
    "    feature[\"properties\"][\"type\"] = \"ur:bench\"\n",
    "    \n",
    "    HelsinkiBenches.append(feature)\n",
    "\n",
    "for feature in permanentBenchesJSON['features']:\n",
    "    feature[\"properties\"][\"BenchType\"] = \"Fixed bench\"\n",
    "    feature[\"properties\"][\"type\"] = \"ur:bench\"\n",
    "    \n",
    "    HelsinkiBenches.append(feature)\n",
    "    \n",
    "for feature in movableBenchesJSON['features']:\n",
    "    feature[\"properties\"][\"BenchType\"] = \"Movable bench\"\n",
    "    feature[\"properties\"][\"type\"] = \"ur:bench\"\n",
    "    \n",
    "    HelsinkiBenches.append(feature)\n",
    "    \n",
    "for feature in singleSeatBenchesJSON['features']:\n",
    "    feature[\"properties\"][\"BenchType\"] = \"Single seat bench\"\n",
    "    feature[\"properties\"][\"type\"] = \"ur:bench\"\n",
    "    \n",
    "    HelsinkiBenches.append(feature)"
   ]
  },
  {
   "cell_type": "code",
   "execution_count": 24,
   "id": "956a842f",
   "metadata": {},
   "outputs": [],
   "source": [
    "#Produce GeoJSON collection, write out\n",
    "HelsinkiBenchesJSON = geojson.FeatureCollection(HelsinkiBenches)\n",
    "\n",
    "writer = open(\"HelsinkiBenches.json\", \"w\")\n",
    "writer.write(json.dumps(HelsinkiBenchesJSON))\n",
    "writer.close()"
   ]
  },
  {
   "cell_type": "code",
   "execution_count": 25,
   "id": "ebae76c0",
   "metadata": {},
   "outputs": [],
   "source": [
    "#Then, the same for Trees\n",
    "trees = requests.get('https://kartta.hel.fi/ws/geoserver/avoindata/wfs?service=wfs&version=2.0.0&request=GetFeature&typeNames=avoindata:Puurekisteri_piste&count=100000&outputFormat=application/json&srsName=urn:ogc:def:crs:EPSG::4326')\n",
    "treesJSON = json.loads(trees.text)\n",
    "HelsinkiTrees = []\n",
    "\n",
    "for feature in treesJSON['features']:\n",
    "    feature[\"properties\"][\"type\"] = \"ur:tree\"\n",
    "    HelsinkiTrees.append(feature)\n",
    "    \n",
    "#Produce GeoJSON collection, write out\n",
    "HelsinkiTreesJSON = geojson.FeatureCollection(HelsinkiTrees)\n",
    "\n",
    "writer = open(\"HelsinkiTrees.json\", \"w\")\n",
    "writer.write(json.dumps(HelsinkiTreesJSON))\n",
    "writer.close()"
   ]
  },
  {
   "cell_type": "code",
   "execution_count": 26,
   "id": "99fb816f",
   "metadata": {},
   "outputs": [],
   "source": [
    "#Then, the same for Toilets\n",
    "restrooms = requests.get('https://kartta.hel.fi/ws/geoserver/avoindata/wfs?service=wfs&version=2.0.0&request=GetFeature&typeNames=avoindata:YLRE_Viherosat_piste&count=1000&outputFormat=application/json&srsName=urn:ogc:def:crs:EPSG::4326&CQL_FILTER=alatyyppi%20LIKE%20%27%25Yleisökäymälä%25%27')\n",
    "restroomsJSON = json.loads(restrooms.text)\n",
    "HelsinkiRestrooms = []\n",
    "\n",
    "for feature in restroomsJSON['features']:\n",
    "    feature[\"properties\"][\"type\"] = \"ur:toilet\"\n",
    "    HelsinkiRestrooms.append(feature)\n",
    "    \n",
    "#Produce GeoJSON collection, write out\n",
    "HelsinkiRestroomsJSON = geojson.FeatureCollection(HelsinkiRestrooms)\n",
    "\n",
    "writer = open(\"HelsinkiToilets.json\", \"w\")\n",
    "writer.write(json.dumps(HelsinkiRestroomsJSON))\n",
    "writer.close()"
   ]
  },
  {
   "cell_type": "code",
   "execution_count": null,
   "id": "8a98dda9",
   "metadata": {},
   "outputs": [],
   "source": []
  }
 ],
 "metadata": {
  "kernelspec": {
   "display_name": "Python 3 (ipykernel)",
   "language": "python",
   "name": "python3"
  },
  "language_info": {
   "codemirror_mode": {
    "name": "ipython",
    "version": 3
   },
   "file_extension": ".py",
   "mimetype": "text/x-python",
   "name": "python",
   "nbconvert_exporter": "python",
   "pygments_lexer": "ipython3",
   "version": "3.8.15"
  }
 },
 "nbformat": 4,
 "nbformat_minor": 5
}
