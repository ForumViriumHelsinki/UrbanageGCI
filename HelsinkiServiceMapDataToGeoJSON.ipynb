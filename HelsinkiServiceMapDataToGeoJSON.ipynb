{
 "cells": [
  {
   "cell_type": "code",
   "execution_count": 26,
   "id": "16ef997e",
   "metadata": {},
   "outputs": [],
   "source": [
    "# Processing tools to read from Helsinki WFS API and produce GeoJSON\n",
    "\n",
    "import json\n",
    "\n",
    "import geojson\n",
    "import requests\n"
   ]
  },
  {
   "cell_type": "markdown",
   "source": [
    "# Helsinki Service Map data\n",
    "\n",
    "worship, cultural_facilities and community_centers data is available from Helsinki Service Map API. The API is documented at https://www.hel.fi/palvelukarttaws/restpages/avoindata/en\n"
   ],
   "metadata": {
    "collapsed": false
   }
  },
  {
   "cell_type": "code",
   "execution_count": 27,
   "outputs": [],
   "source": [
    "servicemap_object_sample = {\n",
    "    \"id\": 71884,\n",
    "    \"contract_type\": {\n",
    "        \"id\": \"MUNICIPAL_SERVICE\",\n",
    "        \"description\": {\n",
    "            \"fi\": \"kunnallinen palvelu, Kulttuurin ja vapaa-ajan toimiala, Helsingin kaupunki\",\n",
    "            \"sv\": \"kommunal tjänst, Kultur- och fritidssektorn, Helsingfors stad\",\n",
    "            \"en\": \"municipal service, Culture and Leisure Division, City of Helsinki\"\n",
    "        }\n",
    "    },\n",
    "    \"name\": {\n",
    "        \"fi\": \"Kalasataman kirjasto\",\n",
    "        \"sv\": \"Fiskehamnens bibliotek\",\n",
    "        \"en\": \"Kalasatama Library\"\n",
    "    },\n",
    "    \"street_address\": {\n",
    "        \"fi\": \"Hermannin rantatie 5\",\n",
    "        \"sv\": \"Hermanstads strandväg 5\",\n",
    "        \"en\": \"Hermannin rantatie 5\"\n",
    "    },\n",
    "    \"municipality\": \"helsinki\",\n",
    "    \"service_nodes\": [\n",
    "        328,\n",
    "        349\n",
    "    ],\n",
    "    \"location\": {\n",
    "        \"type\": \"Point\",\n",
    "        \"coordinates\": [\n",
    "            24.978022,\n",
    "            60.187717\n",
    "        ]\n",
    "    },\n",
    "    \"geometry\": {\n",
    "        \"type\": \"Point\",\n",
    "        \"coordinates\": [\n",
    "            24.978022,\n",
    "            60.187717\n",
    "        ]\n",
    "    },\n",
    "    \"accessibility_shortcoming_count\": {}\n",
    "}\n",
    "\n",
    "\n",
    "def convert_servicemap_object_to_geojson(obj):\n",
    "    \"\"\"\n",
    "    Converts a single object from Helsinki Service Map API to GeoJSON.\n",
    "    See servicemap_object_sample for an example of the input object.\n",
    "    \"\"\"\n",
    "    geojson = {\n",
    "        \"type\": \"Feature\",\n",
    "        \"properties\": {\n",
    "            \"id\": obj[\"id\"],\n",
    "            \"name\": obj[\"name\"],\n",
    "            \"street_address\": obj[\"street_address\"],\n",
    "        },\n",
    "        \"geometry\": obj[\"geometry\"]\n",
    "    }\n",
    "    return geojson\n",
    "\n",
    "\n",
    "def get_servicemap_url_and_return_geojson(url: str, contract_type: str = \"MUNICIPAL_SERVICE\"):\n",
    "    \"\"\"\n",
    "    Gets a list of objects from Helsinki Service Map API and converts them to GeoJSON.\n",
    "    \"\"\"\n",
    "    res = requests.get(url)\n",
    "    data = res.json()\n",
    "    feature_list = []\n",
    "    for obj in data[\"results\"]:\n",
    "        # print(json.dumps(obj, indent=2))\n",
    "        if obj[\"municipality\"] == \"helsinki\" and (contract_type == \"\" or obj[\"contract_type\"][\"id\"] == contract_type):\n",
    "            feature_list.append(convert_servicemap_object_to_geojson(obj))\n",
    "    return geojson.FeatureCollection(feature_list)\n"
   ],
   "metadata": {
    "collapsed": false
   }
  },
  {
   "cell_type": "code",
   "execution_count": 29,
   "outputs": [
    {
     "name": "stdout",
     "output_type": "stream",
     "text": [
      "* [HelsinkiCulturalFacilities.geojson](https://proto.fvh.io/urbanage/HelsinkiCulturalFacilities.geojson)\n",
      "* [HelsinkiLibraries.geojson](https://proto.fvh.io/urbanage/HelsinkiLibraries.geojson)\n",
      "* [HelsinkiWorships.geojson](https://proto.fvh.io/urbanage/HelsinkiWorships.geojson)\n"
     ]
    }
   ],
   "source": [
    "# Helsinki Service Map data and save to GeoJSON files\n",
    "\n",
    "cultural_facilities_url = \"https://api.hel.fi/servicemap/v2/unit/?service=345&page=1&page_size=200&only=street_address%2Cname%2Cmunicipality%2Ccontract_type&geometry=true&language=fi\"\n",
    "\n",
    "geojson_obj = get_servicemap_url_and_return_geojson(cultural_facilities_url)\n",
    "fname = \"HelsinkiCulturalFacilities.json\"\n",
    "with open(fname, \"w\") as f:\n",
    "    json.dump(geojson_obj, f)\n",
    "print(f\"* [{fname}](https://proto.fvh.io/urbanage/{fname})\")\n",
    "\n",
    "\n",
    "library_url = \"https://api.hel.fi/servicemap/v2/unit/?service=813&page_size=200&geometry=true&only=street_address%2Cname%2Cmunicipality%2Ccontract_type&page=1\"\n",
    "\n",
    "geojson_obj = get_servicemap_url_and_return_geojson(library_url)\n",
    "fname = \"HelsinkiLibraries.json\"\n",
    "with open(fname, \"w\") as f:\n",
    "    json.dump(geojson_obj, f)\n",
    "print(f\"* [{fname}](https://proto.fvh.io/urbanage/{fname})\")\n",
    "\n",
    "\n",
    "worship_url = \"https://api.hel.fi/servicemap/v2/unit/?service=314&page=1&page_size=200&only=street_address%2Cname%2Cmunicipality%2Ccontract_type&geometry=true&language=fi\"\n",
    "\n",
    "geojson_obj = get_servicemap_url_and_return_geojson(worship_url, \"\")\n",
    "fname = \"HelsinkiWorships.json\"\n",
    "with open(fname, \"w\") as f:\n",
    "    json.dump(geojson_obj, f)\n",
    "print(f\"* [{fname}](https://proto.fvh.io/urbanage/{fname})\")\n"
   ],
   "metadata": {
    "collapsed": false
   }
  }
 ],
 "metadata": {
  "kernelspec": {
   "display_name": "Python 3 (ipykernel)",
   "language": "python",
   "name": "python3"
  },
  "language_info": {
   "codemirror_mode": {
    "name": "ipython",
    "version": 3
   },
   "file_extension": ".py",
   "mimetype": "text/x-python",
   "name": "python",
   "nbconvert_exporter": "python",
   "pygments_lexer": "ipython3",
   "version": "3.8.15"
  }
 },
 "nbformat": 4,
 "nbformat_minor": 5
}
