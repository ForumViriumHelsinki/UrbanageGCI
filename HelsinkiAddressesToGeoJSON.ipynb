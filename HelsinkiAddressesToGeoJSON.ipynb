{
 "cells": [
  {
   "cell_type": "code",
   "execution_count": 1,
   "id": "16ef997e",
   "metadata": {},
   "outputs": [],
   "source": [
    "# Processing tools to read from Helsinki WFS API and produce GeoJSON\n",
    "\n",
    "import json\n",
    "\n",
    "import geojson\n",
    "import requests\n"
   ]
  },
  {
   "cell_type": "markdown",
   "source": [
    "# Helsinki address data\n"
   ],
   "metadata": {
    "collapsed": false
   }
  },
  {
   "cell_type": "code",
   "execution_count": 2,
   "outputs": [],
   "source": [
    "address_object_sample = {\n",
    "    \"type\": \"Feature\",\n",
    "    \"id\": \"Helsinki_osoiteluettelo.46991\",\n",
    "    \"geometry\": {\n",
    "        \"type\": \"Point\",\n",
    "        \"coordinates\": [\n",
    "            24.95061169,\n",
    "            60.16659673\n",
    "        ]\n",
    "    },\n",
    "    \"geometry_name\": \"geom\",\n",
    "    \"properties\": {\n",
    "        \"id\": 46991,\n",
    "        \"katunimi\": \"Unioninkatu\",\n",
    "        \"gatan\": \"Unionsgatan\",\n",
    "        \"osoitenumero\": 24,\n",
    "        \"osoitenumero2\": None,\n",
    "        \"osoitekirjain\": None,\n",
    "        \"n\": 6672635,\n",
    "        \"e\": 25497258,\n",
    "        \"kaupunki\": \"Helsinki\",\n",
    "        \"staden\": \"Helsingfors\",\n",
    "        \"tyyppi\": 1,\n",
    "        \"postinumero\": \"00130\",\n",
    "        \"postitoimipaikka\": \"Helsinki\",\n",
    "        \"osoitenumero_teksti\": \"24\",\n",
    "        \"datanomistaja\": None,\n",
    "        \"paivitetty_tietopalveluun\": \"2023-04-25\"\n",
    "    }\n",
    "}\n",
    "\n",
    "\n",
    "def cleanup_address_object(obj):\n",
    "    \"\"\"\n",
    "    Remove unnecessary fields from the address object and rename some.\n",
    "    \"\"\"\n",
    "    obj.pop(\"geometry_name\")\n",
    "    obj[\"properties\"][\"name\"] = {\n",
    "        \"fi\": obj[\"properties\"][\"katunimi\"],\n",
    "        \"sv\": obj[\"properties\"][\"gatan\"],\n",
    "    }\n",
    "    obj[\"properties\"].pop(\"katunimi\")\n",
    "    obj[\"properties\"].pop(\"gatan\")\n",
    "    properties_map = {\n",
    "        \"osoitenumero\": \"street_number\",\n",
    "        \"osoitenumero2\": \"street_number2\",\n",
    "        \"osoitekirjain\": \"street_letter\",\n",
    "        \"osoitenumero_teksti\": \"street_number_text\",\n",
    "        \"kaupunki\": \"city\",\n",
    "        \"postinumero\": \"postal_code\",\n",
    "        \"postitoimipaikka\": \"postal_code_name\",\n",
    "    }\n",
    "    for k, v in properties_map.items():\n",
    "        obj[\"properties\"][v] = obj[\"properties\"][k]\n",
    "        obj[\"properties\"].pop(k)\n",
    "    properties_to_remove = [\n",
    "        \"tyyppi\",\n",
    "        \"staden\",\n",
    "        \"datanomistaja\",\n",
    "        \"paivitetty_tietopalveluun\",\n",
    "    ]\n",
    "    for k in properties_to_remove:\n",
    "        obj[\"properties\"].pop(k)\n",
    "    return obj\n"
   ],
   "metadata": {
    "collapsed": false
   }
  },
  {
   "cell_type": "code",
   "execution_count": 3,
   "outputs": [
    {
     "name": "stdout",
     "output_type": "stream",
     "text": [
      "* [HelsinkiAddressList.geojson](https://proto.fvh.io/urbanage/HelsinkiAddressList.geojson)\n"
     ]
    }
   ],
   "source": [
    "# Helsinki Service Map data and save to GeoJSON files\n",
    "address_url = \"https://kartta.hel.fi/ws/geoserver/avoindata/wfs?service=wfs&version=2.0.0&request=GetFeature&typeNames=avoindata:Helsinki_osoiteluettelo&count=1000000&outputFormat=application/json&srsName=urn:ogc:def:crs:EPSG::4326\"\n",
    "\n",
    "res = requests.get(address_url)\n",
    "address_geojson = res.json()\n",
    "features = []\n",
    "# Loop all featues and clean up the data\n",
    "for feature in address_geojson[\"features\"]:\n",
    "    features.append(cleanup_address_object(feature))\n",
    "\n",
    "geojson_obj = geojson.FeatureCollection(features)\n",
    "fname = \"HelsinkiAddressList.json\"\n",
    "with open(fname, \"w\") as f:\n",
    "    json.dump(geojson_obj, f)\n",
    "print(f\"* [{fname}](https://proto.fvh.io/urbanage/{fname})\")\n",
    "\n"
   ],
   "metadata": {
    "collapsed": false
   }
  }
 ],
 "metadata": {
  "kernelspec": {
   "display_name": "Python 3 (ipykernel)",
   "language": "python",
   "name": "python3"
  },
  "language_info": {
   "codemirror_mode": {
    "name": "ipython",
    "version": 3
   },
   "file_extension": ".py",
   "mimetype": "text/x-python",
   "name": "python",
   "nbconvert_exporter": "python",
   "pygments_lexer": "ipython3",
   "version": "3.8.15"
  }
 },
 "nbformat": 4,
 "nbformat_minor": 5
}
