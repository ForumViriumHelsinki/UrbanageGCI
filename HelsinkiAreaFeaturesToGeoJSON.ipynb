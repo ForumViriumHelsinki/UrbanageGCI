{
 "cells": [
  {
   "cell_type": "code",
   "execution_count": 1,
   "id": "16ef997e",
   "metadata": {},
   "outputs": [],
   "source": [
    "#Processing tools to read from Helsinki WFS API and produce GeoJSON for Green Comfort Index estimation\n",
    "\n",
    "#First, the dependencies\n",
    "import geojson\n",
    "import requests\n",
    "import json\n",
    "import datetime\n",
    "import copy"
   ]
  },
  {
   "cell_type": "code",
   "execution_count": 2,
   "id": "3ed23b4b",
   "metadata": {},
   "outputs": [],
   "source": [
    "#Pull green and pedestrian areas\n",
    "green = requests.get('https://kartta.hel.fi/ws/geoserver/avoindata/wfs?service=wfs&version=2.0.0&request=GetFeature&typeNames=avoindata:YLRE_Katu_ja_viherosat_eiliikenne_alue&count=1000000&outputFormat=application/json&srsName=urn:ogc:def:crs:EPSG::4326')\n",
    "greenJSON = json.loads(green.text)\n",
    "\n",
    "pedestrian = requests.get('https://kartta.hel.fi/ws/geoserver/avoindata/wfs?service=wfs&version=2.0.0&request=GetFeature&typeNames=avoindata:YLRE_Katu_ja_viherosat_kevytliikenne_alue&count=100000&outputFormat=application/json&srsName=urn:ogc:def:crs:EPSG::4326&CQL_FILTER=alatyyppi%20NOT%20LIKE%20%27%25Erotettu%20pyörätie%25%27')\n",
    "pedestrianJSON = json.loads(pedestrian.text)"
   ]
  },
  {
   "cell_type": "code",
   "execution_count": 3,
   "id": "72a74761",
   "metadata": {},
   "outputs": [],
   "source": [
    "#Create a deep copy of feature list to avoid corrupting original in dev\n",
    "greenList = copy.deepcopy(greenJSON)\n",
    "pedestrianList = copy.deepcopy(pedestrianJSON)\n",
    "\n",
    "#New list, to hold all result objects\n",
    "HelsinkiGreen = []"
   ]
  },
  {
   "cell_type": "code",
   "execution_count": 4,
   "id": "45af6974",
   "metadata": {},
   "outputs": [],
   "source": [
    "#Iterate green areas\n",
    "for feature in greenList[\"features\"]:\n",
    "    feature[\"properties\"] = {} #Dump additional properties to keep compact\n",
    "    feature[\"properties\"][\"type\"] = \"ur:park\"\n",
    "    HelsinkiGreen.append(feature)"
   ]
  },
  {
   "cell_type": "code",
   "execution_count": 5,
   "id": "40344c18",
   "metadata": {},
   "outputs": [],
   "source": [
    "#Iterate pedestrian areas\n",
    "for feature in pedestrianList[\"features\"]:\n",
    "    if feature[\"geometry\"] != None: #Skip geometryless features\n",
    "        feature[\"properties\"] = {} #Dump additional properties to keep compact\n",
    "        feature[\"properties\"][\"type\"] = \"ur:park\"\n",
    "        HelsinkiGreen.append(feature)"
   ]
  },
  {
   "cell_type": "code",
   "execution_count": 6,
   "id": "d976c462",
   "metadata": {},
   "outputs": [],
   "source": [
    "HelsinkiGreen.append({\n",
    "  \"type\": \"Feature\",\n",
    "  \"geometry\": {\n",
    "    \"type\": \"Polygon\",\n",
    "    \"coordinates\": []\n",
    "  },\n",
    "  \"properties\": {\n",
    "    \"License\": \"Creative Commons Attribution 4.0\",\n",
    "    \"License URL\": \"https://creativecommons.org/licenses/by/4.0/\",\n",
    "    \"License text\": \"Source: City of Helsinki. The maintainer of the dataset is Helsingin kaupunkiympäristön toimiala. The dataset has been downloaded from Helsinki WFS API on \" + datetime.datetime.now().isoformat(timespec='seconds'),\n",
    "    \"Link to original\": \"https://hri.fi/data/en_GB/dataset/helsingin-kaupungin-yleisten-alueiden-rekisteri\"\n",
    "  }\n",
    "})\n",
    "    \n",
    "#Produce GeoJSON collection, write out\n",
    "HelsinkiGreenJSON = geojson.FeatureCollection(HelsinkiGreen)\n",
    "\n",
    "writer = open(\"HelsinkiParks.json\", \"w\")\n",
    "writer.write(json.dumps(HelsinkiGreenJSON))\n",
    "writer.close()"
   ]
  },
  {
   "cell_type": "code",
   "execution_count": null,
   "id": "9ccb6189",
   "metadata": {},
   "outputs": [],
   "source": []
  }
 ],
 "metadata": {
  "kernelspec": {
   "display_name": "Python 3 (ipykernel)",
   "language": "python",
   "name": "python3"
  },
  "language_info": {
   "codemirror_mode": {
    "name": "ipython",
    "version": 3
   },
   "file_extension": ".py",
   "mimetype": "text/x-python",
   "name": "python",
   "nbconvert_exporter": "python",
   "pygments_lexer": "ipython3",
   "version": "3.8.15"
  }
 },
 "nbformat": 4,
 "nbformat_minor": 5
}
