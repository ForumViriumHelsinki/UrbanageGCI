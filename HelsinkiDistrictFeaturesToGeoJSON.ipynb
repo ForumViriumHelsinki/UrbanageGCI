{
 "cells": [
  {
   "cell_type": "code",
   "execution_count": 1,
   "id": "16ef997e",
   "metadata": {},
   "outputs": [],
   "source": [
    "# Processing tools to read from Helsinki WFS API and produce GeoJSON\n",
    "\n",
    "import json\n",
    "\n",
    "import requests\n"
   ]
  },
  {
   "cell_type": "markdown",
   "source": [
    "# Helsinki district division data\n",
    "\n",
    "Helsinki major district, district and city sub-district data is available\n",
    "from Helsinki Region Infoshare (HRI) as WFS API in GeoJSON format.\n",
    "The data is available in Finnish and Swedish and in EPSG:4326 (WGS84) projection.\n",
    "\n",
    "https://hri.fi/data/en_GB/dataset/helsingin-piirijako\n"
   ],
   "metadata": {
    "collapsed": false
   }
  },
  {
   "cell_type": "code",
   "execution_count": 2,
   "outputs": [],
   "source": [
    "# dataset name mapping to file name (major district, district, city sub-district)\n",
    "district_mapping = {\n",
    "\"Piirijako_suurpiiri\": \"HelsinkiMajorDistrict\",\n",
    "\"Piirijako_peruspiiri\": \"HelsinkiDistrict\",\n",
    "\"Piirijako_osaalue\": \"HelsinkiSubDistrict\",\n",
    "}\n",
    "\n",
    "for type_name in district_mapping.keys():\n",
    "    res = requests.get(\n",
    "        f\"https://kartta.hel.fi/ws/geoserver/avoindata/wfs?service=wfs&version=2.0.0&request=GetFeature&typeNames=avoindata:{type_name}&count=1000000&outputFormat=application/json&srsName=urn:ogc:def:crs:EPSG::4326\"\n",
    "    )\n",
    "    # parse json to make sure it is valid json\n",
    "    data = res.json()\n",
    "    with open(f\"{district_mapping[type_name]}.json\", \"w\") as f:\n",
    "        json.dump(data, f)\n"
   ],
   "metadata": {
    "collapsed": false
   }
  }
 ],
 "metadata": {
  "kernelspec": {
   "display_name": "Python 3 (ipykernel)",
   "language": "python",
   "name": "python3"
  },
  "language_info": {
   "codemirror_mode": {
    "name": "ipython",
    "version": 3
   },
   "file_extension": ".py",
   "mimetype": "text/x-python",
   "name": "python",
   "nbconvert_exporter": "python",
   "pygments_lexer": "ipython3",
   "version": "3.8.15"
  }
 },
 "nbformat": 4,
 "nbformat_minor": 5
}
