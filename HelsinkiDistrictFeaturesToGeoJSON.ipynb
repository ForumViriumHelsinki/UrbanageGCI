{
 "cells": [
  {
   "cell_type": "code",
   "execution_count": 47,
   "id": "16ef997e",
   "metadata": {},
   "outputs": [
    {
     "name": "stdout",
     "output_type": "stream",
     "text": [
      "   DistrictCode         DistrictName           Type  Population\n",
      "0             1  Eteläinen suurpiiri  MajorDistrict    121157.0\n",
      "1           101           Vironniemi       District     12794.0\n",
      "2           010          Kruununhaka    SubDistrict      7175.0\n",
      "3           020               Kluuvi    SubDistrict       687.0\n",
      "4           080          Katajanokka    SubDistrict      4932.0\n",
      "5           102           Ullanlinna       District     24636.0\n",
      "6           030      Kaartinkaupunki    SubDistrict      1061.0\n",
      "7           050            Punavuori    SubDistrict      9267.0\n",
      "8           060                 Eira    SubDistrict      1083.0\n",
      "9           070           Ullanlinna    SubDistrict     10893.0\n",
      "10          090          Kaivopuisto    SubDistrict       465.0\n",
      "11          204           Hernesaari    SubDistrict      1181.0\n",
      "12          520          Suomenlinna    SubDistrict       686.0\n",
      "13          103          Kampinmalmi       District     43738.0\n",
      "14          040               Kamppi    SubDistrict     12168.0\n",
      "15          130            Etu-Töölö    SubDistrict     14528.0\n",
      "16          201           Ruoholahti    SubDistrict      2852.0\n",
      "17          203           Jätkäsaari    SubDistrict     14165.0\n",
      "18          104           Taka-Töölö       District     15253.0\n",
      "19          140           Taka-Töölö    SubDistrict     15253.0\n"
     ]
    }
   ],
   "source": [
    "# Processing tools to read from Helsinki WFS API and produce GeoJSON\n",
    "\n",
    "import json\n",
    "\n",
    "import pandas as pd\n",
    "import requests\n",
    "import pyproj\n",
    "from shapely.geometry import shape\n",
    "\n",
    "# Prepare district population data\n",
    "df_pop = pd.read_excel(\"Hki_vaesto_taulu2.xlsx\", sheet_name=\"2022\")\n",
    "\n",
    "# Read the excel file the sheet named \"2022\", from row 8 onwards and just 2 first columns\n",
    "df_pop = pd.read_excel(\"Hki_vaesto_taulu2.xlsx\", sheet_name=\"2022\", skiprows=7, usecols=\"A:B\")\n",
    "\n",
    "# Rename the columns\n",
    "df_pop.columns = [\"District\", \"Population\"]\n",
    "\n",
    "# Remove empty rows\n",
    "df_pop = df_pop.dropna()\n",
    "# Add new column with values \"MarorDistrict\", \"District\" or \"SubDistrict\".\n",
    "# It is based on how many leading spaces there are in the 'District' column\n",
    "space_map = {0: \"MajorDistrict\", 2: \"District\", 5: \"SubDistrict\"}\n",
    "\n",
    "\n",
    "def district_type(x):\n",
    "    # Count spaces which are in the beginning of the string\n",
    "    l = int(len(x) - len(x.lstrip()))\n",
    "    return space_map[l]\n",
    "\n",
    "\n",
    "df_pop[\"Type\"] = df_pop[\"District\"].apply(district_type)\n",
    "\n",
    "# Strip spaces from District column\n",
    "df_pop[\"District\"] = df_pop[\"District\"].str.strip()\n",
    "\n",
    "# Split the 'District' column to two columns by the first space\n",
    "df_pop[[\"DistrictCode\", \"DistrictName\"]] = df_pop[\"District\"].str.split(\" \", n=1, expand=True)\n",
    "\n",
    "df_pop = df_pop.drop(\"District\", axis=1)\n",
    "df_pop = df_pop[[\"DistrictCode\", \"DistrictName\", \"Type\", \"Population\"]]\n",
    "\n",
    "print(df_pop.head(20))"
   ]
  },
  {
   "cell_type": "code",
   "execution_count": 48,
   "outputs": [],
   "source": [
    "# Remove all rows which are not starting with a digit"
   ],
   "metadata": {
    "collapsed": false
   }
  },
  {
   "cell_type": "markdown",
   "source": [
    "# Helsinki district division data\n",
    "\n",
    "Helsinki major district, district and city sub-district data is available\n",
    "from Helsinki Region Infoshare (HRI) as WFS API in GeoJSON format.\n",
    "The data is available in Finnish and Swedish and in EPSG:4326 (WGS84) projection.\n",
    "\n",
    "https://hri.fi/data/en_GB/dataset/helsingin-piirijako\n",
    "\n",
    "Population is gathered from excel file from\n",
    "[HRI](https://hri.fi/data/en_GB/dataset/helsingin-vaesto-piireittain-ja-osa-alueittain-ian-mukaan-2004-alkaen/resource/2341bfb7-52d8-4816-b2ac-b7c7d63e716a).\n"
   ],
   "metadata": {
    "collapsed": false
   }
  },
  {
   "cell_type": "code",
   "execution_count": 49,
   "outputs": [],
   "source": [
    "# Helper functions\n",
    "def add_population(feature: dict):\n",
    "    \"\"\"\n",
    "    Use feature[\"properties\"][\"tunnus\"] to find the population from df_pop\n",
    "    \"\"\"\n",
    "    population_row = df_pop[df_pop[\"DistrictCode\"] == feature[\"properties\"][\"tunnus\"]][\"Population\"]\n",
    "    # Convert the population value to integer\n",
    "    if len(population_row) == 0:\n",
    "        return None\n",
    "    else:\n",
    "        return int(population_row.iloc[0])\n",
    "\n",
    "\n",
    "def calculate_geojson_polygon_area(feature: dict):\n",
    "    \"\"\"\n",
    "    Calculate the area of a GeoJSON polygon using shapely\n",
    "    \"\"\"\n",
    "    # Convert the feature to shapely geometry\n",
    "    polygon = shape(feature[\"geometry\"])\n",
    "    # specify a named ellipsoid\n",
    "    geod = pyproj.Geod(ellps=\"WGS84\")\n",
    "    area = int(abs(geod.geometry_area_perimeter(polygon)[0]))\n",
    "    return area\n",
    "\n",
    "\n",
    "def cleanup_district_feature(obj):\n",
    "    \"\"\"\n",
    "    Remove unnecessary fields from the address object and rename some.\n",
    "    \"\"\"\n",
    "    obj.pop(\"geometry_name\")\n",
    "    obj[\"properties\"][\"name\"] = {\n",
    "        \"fi\": obj[\"properties\"][\"nimi_fi\"],\n",
    "        \"sv\": obj[\"properties\"][\"nimi_se\"],\n",
    "    }\n",
    "    properties_map = {\n",
    "        \"kunta\": \"municipality\",\n",
    "        \"aluejako\": \"district_type\",\n",
    "    }\n",
    "    for k, v in properties_map.items():\n",
    "        obj[\"properties\"][v] = obj[\"properties\"][k]\n",
    "        obj[\"properties\"].pop(k)\n",
    "    properties_to_remove = [\n",
    "        \"tunnus\",\n",
    "        \"nimi_fi\",\n",
    "        \"nimi_se\",\n",
    "        \"yhtdatanomistaja\",\n",
    "        \"kokotunnus\",\n",
    "        \"datanomistaja\",\n",
    "        \"paivitetty_tietopalveluun\",\n",
    "        \"yhtluontipvm\",\n",
    "        \"yhtmuokkauspvm\",\n",
    "    ]\n",
    "    for k in properties_to_remove:\n",
    "        obj[\"properties\"].pop(k)\n",
    "    return obj"
   ],
   "metadata": {
    "collapsed": false
   }
  },
  {
   "cell_type": "code",
   "execution_count": 50,
   "outputs": [
    {
     "name": "stdout",
     "output_type": "stream",
     "text": [
      "* [HelsinkiMajorDistrict.json](https://proto.fvh.io/urbanage/HelsinkiMajorDistrict.json)\n",
      "* [HelsinkiDistrict.json](https://proto.fvh.io/urbanage/HelsinkiDistrict.json)\n",
      "* [HelsinkiSubDistrict.json](https://proto.fvh.io/urbanage/HelsinkiSubDistrict.json)\n"
     ]
    }
   ],
   "source": [
    "# dataset name mapping to file name (major district, district, city sub-district)\n",
    "district_mapping = {\n",
    "    \"Piirijako_suurpiiri\": \"HelsinkiMajorDistrict\",\n",
    "    \"Piirijako_peruspiiri\": \"HelsinkiDistrict\",\n",
    "    \"Piirijako_osaalue\": \"HelsinkiSubDistrict\",\n",
    "}\n",
    "\n",
    "for type_name in district_mapping.keys():\n",
    "    res = requests.get(\n",
    "        f\"https://kartta.hel.fi/ws/geoserver/avoindata/wfs?service=wfs&version=2.0.0&request=GetFeature&typeNames=avoindata:{type_name}&count=1000000&outputFormat=application/json&srsName=urn:ogc:def:crs:EPSG::4326\"\n",
    "    )\n",
    "    # parse json to make sure it is valid json\n",
    "    data = res.json()\n",
    "    for feature in data[\"features\"]:\n",
    "        feature[\"properties\"][\"population\"] = add_population(feature)\n",
    "        feature[\"properties\"][\"area_m2\"] = calculate_geojson_polygon_area(feature)\n",
    "        feature = cleanup_district_feature(feature)\n",
    "    fname = f\"{district_mapping[type_name]}.json\"\n",
    "    with open(fname, \"w\") as f:\n",
    "        json.dump(data, f)\n",
    "        print(f\"* [{fname}](https://proto.fvh.io/urbanage/{fname})\")"
   ],
   "metadata": {
    "collapsed": false
   }
  }
 ],
 "metadata": {
  "kernelspec": {
   "display_name": "Python 3 (ipykernel)",
   "language": "python",
   "name": "python3"
  },
  "language_info": {
   "codemirror_mode": {
    "name": "ipython",
    "version": 3
   },
   "file_extension": ".py",
   "mimetype": "text/x-python",
   "name": "python",
   "nbconvert_exporter": "python",
   "pygments_lexer": "ipython3",
   "version": "3.8.15"
  }
 },
 "nbformat": 4,
 "nbformat_minor": 5
}
