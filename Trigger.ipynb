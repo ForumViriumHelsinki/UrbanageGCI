{
 "cells": [
  {
   "cell_type": "code",
   "execution_count": null,
   "id": "767c1583",
   "metadata": {},
   "outputs": [],
   "source": [
    "import requests\n",
    "\n",
    "postTargetURL = \"https://gcm.dev.ecosystem-urbanage.eu/v1/green-comfort-score\"\n",
    "payload = {\n",
    "    \"h3Resolution\": 12,\n",
    "    \"inputCity\": \"Helsinki\",\n",
    "    \"calculationArea\": \"https://proto.fvh.io/urbanage/HelsinkiPublicArea_2.json\",\n",
    "    \"bench\": \"https://proto.fvh.io/urbanage/HelsinkiBenches.json\",\n",
    "    \"drinkingWater\": \"https://proto.fvh.io/urbanage/HelsinkiDrinkingWater.json\",\n",
    "    \"park\": \"https://proto.fvh.io/urbanage/HelsinkiParks.json\",\n",
    "    \"toilet\": \"https://proto.fvh.io/urbanage/HelsinkiToilets.json\",\n",
    "    \"tree\": \"https://proto.fvh.io/urbanage/HelsinkiTrees.json\",\n",
    "    \"heatScoreTif\": \"\",\n",
    "    \"postOutputToUrl\": \"http://ur-api-rest-gcm:9000/v1/dataset\",\n",
    "    \"statusUrl\": \"http://ur-api-rest-gcm:9000/v1/status\"\n",
    "}\n",
    "\n",
    "#Make the request\n",
    "x = requests.post(postTargetURL, json = payload)\n",
    "print(x.text)\n",
    "\n",
    "#Dash to follow progress\n",
    "#From ATC: https://airflow.dev.ecosystem-urbanage.eu/dagrun/list/?_flt_3_dag_id=run-ur-model-green-comfort\n",
    "    "
   ]
  }
 ],
 "metadata": {
  "kernelspec": {
   "display_name": "Python 3 (ipykernel)",
   "language": "python",
   "name": "python3"
  },
  "language_info": {
   "codemirror_mode": {
    "name": "ipython",
    "version": 3
   },
   "file_extension": ".py",
   "mimetype": "text/x-python",
   "name": "python",
   "nbconvert_exporter": "python",
   "pygments_lexer": "ipython3",
   "version": "3.8.15"
  }
 },
 "nbformat": 4,
 "nbformat_minor": 5
}
